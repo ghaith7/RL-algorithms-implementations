{
 "cells": [
  {
   "cell_type": "code",
   "execution_count": 4,
   "id": "99d5313a",
   "metadata": {},
   "outputs": [],
   "source": [
    "import numpy as np\n",
    "import random"
   ]
  },
  {
   "cell_type": "code",
   "execution_count": 31,
   "id": "bb45b72f",
   "metadata": {},
   "outputs": [],
   "source": [
    "states = (0,1,2,3,4,5,6,7,8,9,10,11,12,13,14,15)\n",
    "rewards = np.full((16),-1)\n",
    "R = random.randint(0,16)\n",
    "rewards[R] = 10"
   ]
  },
  {
   "cell_type": "code",
   "execution_count": 24,
   "id": "a70c69e3",
   "metadata": {},
   "outputs": [],
   "source": [
    "def get_actions(s):\n",
    "    actions = []\n",
    "    if s > 3:\n",
    "        actions.append(1)\n",
    "    if not(s%4 == 3):\n",
    "        actions.append(2)\n",
    "    if s < 12:\n",
    "        actions.append(3)\n",
    "    if not(s%4 == 0):\n",
    "        actions.append(4)\n",
    "    return actions\n",
    "def get_next_state(s,a):\n",
    "    if a == 1:\n",
    "        s=s-4\n",
    "    if a == 2:\n",
    "        s=s+1\n",
    "    if a == 3:\n",
    "        s=s+4\n",
    "    if a == 4:\n",
    "        s=s-1\n",
    "    return s"
   ]
  },
  {
   "cell_type": "code",
   "execution_count": 36,
   "id": "9f7cad22",
   "metadata": {},
   "outputs": [
    {
     "name": "stdout",
     "output_type": "stream",
     "text": [
      "[0, 0, 0, 0, 0, 0, 0, 0, 0, 0, 0, 10.0, 0, 0, 0, 0]\n",
      "[0, 0, 0, 0, 0, 0, 0, 7.0, 0, 0, 7.0, 10.0, 0, 0, 0, 7.0]\n",
      "[0, 0, 0, 4.6, 0, 0, 4.6, 7.0, 0, 4.6, 7.0, 15.6, 0, 0, 4.6, 7.0]\n",
      "[0, 1.14, 2.68, 8.18, 1.14, 2.68, 8.18, 11.48, 2.68, 8.18, 11.48, 19.18, 1.14, 2.68, 8.18, 11.48]\n",
      "[0, 3.43, 5.54, 10.47, 3.43, 5.54, 10.47, 14.34, 5.54, 10.47, 14.34, 21.47, 3.43, 5.54, 10.47, 14.34]\n",
      "[1.74, 4.9, 7.38, 11.94, 4.9, 7.38, 11.94, 16.18, 7.38, 11.94, 16.18, 22.94, 4.9, 7.38, 11.94, 16.18]\n",
      "[3, 3, 3, 3, 3, 3, 3, 3, 2, 2, 2, 4, 2, 2, 2, 1]\n"
     ]
    }
   ],
   "source": [
    "max_iter = 10  \n",
    "V = [0, 0, 0, 0, 0, 0, 0, 0, 0, 0, 0, 0, 0, 0, 0, 0]\n",
    "pi = [None, None, None, None, None, None, None, None, None, None, None, None, None, None, None, None]\n",
    "epsilon = 0.1\n",
    "for i in range(max_iter):\n",
    "    V_new = [0, 0, 0, 0, 0, 0, 0, 0, 0, 0, 0, 0, 0, 0, 0, 0]\n",
    "    delta = 0\n",
    "    for s in states:\n",
    "        actions = get_actions(s)\n",
    "        m = 0\n",
    "        for a in actions:\n",
    "            next_state = get_next_state(s,a)\n",
    "            x = rewards[s] + 0.8*V[next_state]\n",
    "            x = round(x, 2)\n",
    "            m = max(m,x)\n",
    "            if x>V[s]:\n",
    "                pi[s] = a\n",
    "        V_new[s] = m\n",
    "        delta = max(delta,abs(V_new[s]-V[s]))\n",
    "    V=V_new\n",
    "    if delta<epsilon : \n",
    "        break\n",
    "    if i == 1 :\n",
    "        print(V)\n",
    "    if i %2==0:\n",
    "        print(V)\n",
    "print(pi)"
   ]
  },
  {
   "cell_type": "code",
   "execution_count": 32,
   "id": "6b1474a1",
   "metadata": {},
   "outputs": [
    {
     "name": "stdout",
     "output_type": "stream",
     "text": [
      "[-1 -1 -1 -1 -1 -1 -1 -1 -1 -1 -1 10 -1 -1 -1 -1]\n"
     ]
    }
   ],
   "source": [
    "print(rewards)"
   ]
  }
 ],
 "metadata": {
  "kernelspec": {
   "display_name": "Python 3 (ipykernel)",
   "language": "python",
   "name": "python3"
  },
  "language_info": {
   "codemirror_mode": {
    "name": "ipython",
    "version": 3
   },
   "file_extension": ".py",
   "mimetype": "text/x-python",
   "name": "python",
   "nbconvert_exporter": "python",
   "pygments_lexer": "ipython3",
   "version": "3.9.13"
  }
 },
 "nbformat": 4,
 "nbformat_minor": 5
}
