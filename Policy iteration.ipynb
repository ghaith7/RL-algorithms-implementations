{
 "cells": [
  {
   "cell_type": "code",
   "execution_count": 1,
   "id": "296567ce",
   "metadata": {},
   "outputs": [],
   "source": [
    "import numpy as np\n",
    "import random\n",
    "\n",
    "def get_actions(s):\n",
    "    actions = []\n",
    "    if s > 3:\n",
    "        actions.append(1)\n",
    "    if not(s%4 == 3):\n",
    "        actions.append(2)\n",
    "    if s < 12:\n",
    "        actions.append(3)\n",
    "    if not(s%4 == 0):\n",
    "        actions.append(4)\n",
    "    return actions\n",
    "def get_next_state(s,a):\n",
    "    if a == 1:\n",
    "        s=s-4\n",
    "    if a == 2:\n",
    "        s=s+1\n",
    "    if a == 3:\n",
    "        s=s+4\n",
    "    if a == 4:\n",
    "        s=s-1\n",
    "    return s"
   ]
  },
  {
   "cell_type": "code",
   "execution_count": 2,
   "id": "46dd271e",
   "metadata": {},
   "outputs": [],
   "source": [
    "states = (0,1,2,3,4,5,6,7,8,9,10,11,12,13,14,15)\n",
    "rewards = np.full((16),-1)\n",
    "R = random.randint(0,16)\n",
    "rewards[R] = 10"
   ]
  },
  {
   "cell_type": "markdown",
   "id": "f2363a7f",
   "metadata": {},
   "source": [
    "### Initialization"
   ]
  },
  {
   "cell_type": "code",
   "execution_count": 18,
   "id": "0ef2a063",
   "metadata": {},
   "outputs": [],
   "source": [
    "V = [0, 0, 0, 0, 0, 0, 0, 0, 0, 0, 0, 0, 0, 0, 0, 0]\n",
    "pi = []\n",
    "for s in states:\n",
    "    actions = get_actions(s)\n",
    "    i = random.randint(0,len(actions)-1)\n",
    "    pi.append(actions[i])"
   ]
  },
  {
   "cell_type": "markdown",
   "id": "b1114337",
   "metadata": {},
   "source": [
    "### Policy Evaluation"
   ]
  },
  {
   "cell_type": "code",
   "execution_count": 8,
   "id": "08977e14",
   "metadata": {},
   "outputs": [],
   "source": [
    "max_iterations = 10\n",
    "for i in range(max_iterations):\n",
    "    for s in states:\n",
    "        next_state = get_next_state(s,pi[s])\n",
    "        V[s] = rewards[s] + 0.8*V[next_state]\n",
    "        V[s] = round(V[s], 2)"
   ]
  },
  {
   "cell_type": "markdown",
   "id": "491708b8",
   "metadata": {},
   "source": [
    "### Policy improvement"
   ]
  },
  {
   "cell_type": "code",
   "execution_count": 12,
   "id": "73d503fb",
   "metadata": {},
   "outputs": [],
   "source": [
    "for s in states:\n",
    "    action = pi[s]\n",
    "    actions = get_actions(s)\n",
    "    m=0\n",
    "    best_action = None\n",
    "    for a in actions:\n",
    "        next_state = get_next_state(s,a)\n",
    "        x = rewards[s] + V[next_state]\n",
    "        if x > m :\n",
    "            m = x\n",
    "            best_action = a\n",
    "    pi[s] = best_action\n",
    "    if best_action != action:\n",
    "        policy = False"
   ]
  },
  {
   "cell_type": "markdown",
   "id": "ddeca382",
   "metadata": {},
   "source": [
    "### Entire Algo"
   ]
  },
  {
   "cell_type": "code",
   "execution_count": 19,
   "id": "0fbe8ba5",
   "metadata": {},
   "outputs": [
    {
     "name": "stdout",
     "output_type": "stream",
     "text": [
      "[-1 -1 -1 10 -1 -1 -1 -1 -1 -1 -1 -1 -1 -1 -1 -1]\n",
      "[2, 4, 2, 3, 3, 1, 2, 3, 2, 3, 3, 4, 2, 2, 4, 1]\n",
      "[3, 4, 2, 3, 3, 2, 2, 1, 2, 3, 1, 4, 2, 1, 4, 1]\n",
      "[3, 2, 2, 4, 3, 2, 1, 1, 2, 1, 1, 1, 1, 1, 4, 1]\n",
      "[2, 2, 2, 3, 3, 1, 2, 1, 1, 2, 2, 1, 1, 1, 2, 1]\n",
      "[2, 2, 2, 3, 1, 2, 2, 1, 2, 2, 2, 1, 2, 2, 2, 1]\n",
      "[2, 2, 2, 3, 2, 2, 2, 1, 2, 2, 2, 1, 2, 2, 2, 1]\n"
     ]
    }
   ],
   "source": [
    "policy = False\n",
    "print(rewards)\n",
    "while(policy == False):\n",
    "    print(pi)\n",
    "    max_iterations = 1\n",
    "    for i in range(max_iterations):\n",
    "        for s in states:\n",
    "            next_state = get_next_state(s,pi[s])\n",
    "            V[s] = rewards[s] + 0.8*V[next_state]\n",
    "            V[s] = round(V[s], 2)\n",
    "    policy = True      \n",
    "    for s in states:\n",
    "        action = pi[s]\n",
    "        actions = get_actions(s)\n",
    "        next_state = get_next_state(s,action)\n",
    "        m= rewards[s] + V[next_state]\n",
    "        best_action = action\n",
    "        for a in actions:\n",
    "            next_state = get_next_state(s,a)\n",
    "            x = rewards[s] + V[next_state]\n",
    "            if x > m :\n",
    "                m = x\n",
    "                best_action = a\n",
    "        pi[s] = best_action\n",
    "        if best_action != action:\n",
    "            policy = False"
   ]
  },
  {
   "cell_type": "code",
   "execution_count": null,
   "id": "e2229fc8",
   "metadata": {},
   "outputs": [],
   "source": []
  }
 ],
 "metadata": {
  "kernelspec": {
   "display_name": "Python 3 (ipykernel)",
   "language": "python",
   "name": "python3"
  },
  "language_info": {
   "codemirror_mode": {
    "name": "ipython",
    "version": 3
   },
   "file_extension": ".py",
   "mimetype": "text/x-python",
   "name": "python",
   "nbconvert_exporter": "python",
   "pygments_lexer": "ipython3",
   "version": "3.9.13"
  }
 },
 "nbformat": 4,
 "nbformat_minor": 5
}
